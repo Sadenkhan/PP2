{
 "cells": [
  {
   "cell_type": "markdown",
   "metadata": {},
   "source": [
    "Task 1"
   ]
  },
  {
   "cell_type": "code",
   "execution_count": null,
   "metadata": {},
   "outputs": [],
   "source": [
    "\n",
    "import re\n",
    "\n",
    "\n",
    "pattern = r'a(b)'\n",
    "\n",
    "\n",
    "test_strings = ['ab', 'abb', 'abbb', 'ac', 'abc']\n",
    "\n",
    "\n",
    "for test_string in test_strings:\n",
    "   \n",
    "    match = re.match(pattern, test_string)\n",
    "    \n",
    "    \n",
    "    if match:\n",
    "        print('{test_string} matches'.format(test_string=test_string))\n",
    "    \n",
    "    else:\n",
    "        print('{test_string} does not match'.format(test_string=test_string))"
   ]
  },
  {
   "cell_type": "markdown",
   "metadata": {},
   "source": [
    "Task 2"
   ]
  },
  {
   "cell_type": "code",
   "execution_count": null,
   "metadata": {},
   "outputs": [],
   "source": [
    "import re\n",
    "\n",
    "\n",
    "pattern = r'a(bb|bbb)'\n",
    "\n",
    "\n",
    "test_strings = ['ab', 'abb', 'abbb', 'abbbb', 'ac', 'abc']\n",
    "\n",
    "\n",
    "for test_string in test_strings:\n",
    "    \n",
    "    match = re.match(pattern, test_string)\n",
    "    \n",
    "   \n",
    "    if match:\n",
    "        print('{test_string} match'.format(test_string=test_string))\n",
    "    \n",
    "    else:\n",
    "        print('{test_string} does not match'.format(test_string=test_string))"
   ]
  },
  {
   "cell_type": "markdown",
   "metadata": {},
   "source": [
    "Task 3"
   ]
  },
  {
   "cell_type": "code",
   "execution_count": null,
   "metadata": {},
   "outputs": [],
   "source": [
    "import re\n",
    "\n",
    "pattern = r'[a-z]+_[a-z]+'\n",
    "\n",
    "\n",
    "test_string = 'this_is_a_test_string_with_some_matching_patterns'\n",
    "\n",
    "\n",
    "matches = re.findall(pattern, test_string)\n",
    "\n",
    "\n",
    "print(matches)"
   ]
  },
  {
   "cell_type": "markdown",
   "metadata": {},
   "source": [
    "Task 4"
   ]
  },
  {
   "cell_type": "code",
   "execution_count": null,
   "metadata": {},
   "outputs": [],
   "source": [
    "import re\n",
    "\n",
    "\n",
    "pattern = r'[A-Z][a-z]+'\n",
    "\n",
    "\n",
    "test_string = 'This is a Test String with Some Matching Patterns'\n",
    "\n",
    "\n",
    "matches = re.findall(pattern, test_string)\n",
    "\n",
    "\n",
    "print(matches)"
   ]
  },
  {
   "cell_type": "markdown",
   "metadata": {},
   "source": [
    "Task 5"
   ]
  },
  {
   "cell_type": "code",
   "execution_count": null,
   "metadata": {},
   "outputs": [],
   "source": [
    "import re\n",
    "\n",
    "\n",
    "pattern = r'a.*b$'\n",
    "\n",
    "\n",
    "test_strings = ['acb', 'aab', 'aBc', 'abc', 'abcde', 'ab']\n",
    "\n",
    "\n",
    "for test_string in test_strings:\n",
    "    \n",
    "    match = re.match(pattern, test_string)\n",
    "    \n",
    "    \n",
    "    if match:\n",
    "        print('{test_string} match'.format(test_string=test_string))\n",
    "    else:\n",
    "        print('{test_string} does not match'.format(test_string=test_string))"
   ]
  },
  {
   "cell_type": "markdown",
   "metadata": {},
   "source": [
    "Task 6"
   ]
  },
  {
   "cell_type": "code",
   "execution_count": null,
   "metadata": {},
   "outputs": [],
   "source": [
    "import re\n",
    "\n",
    "\n",
    "pattern = r'[ ,.]'\n",
    "\n",
    "\n",
    "test_string = 'This is a test, string. With some spaces and commas.'\n",
    "\n",
    "\n",
    "new_string = re.sub(pattern, ':', test_string)\n",
    "\n",
    "\n",
    "print('Original string:', test_string)\n",
    "print('New string:', new_string)"
   ]
  },
  {
   "cell_type": "markdown",
   "metadata": {},
   "source": [
    "Task 7"
   ]
  },
  {
   "cell_type": "code",
   "execution_count": null,
   "metadata": {},
   "outputs": [],
   "source": [
    "import re\n",
    "\n",
    "pattern = r'_([a-z])'\n",
    "\n",
    "\n",
    "snake_string = 'hello_world_how_are_you'\n",
    "\n",
    "camel_string = re.sub(pattern, lambda match: match.group(1).upper(), snake_string)\n",
    "\n",
    "\n",
    "camel_string = camel_string[0].upper() + camel_string[1:]\n",
    "\n",
    "\n",
    "print('Original string:', snake_string)\n",
    "print('Camel case string:', camel_string)"
   ]
  },
  {
   "cell_type": "markdown",
   "metadata": {},
   "source": [
    "Task 8"
   ]
  },
  {
   "cell_type": "code",
   "execution_count": null,
   "metadata": {},
   "outputs": [],
   "source": [
    "\n",
    "import re\n",
    "\n",
    "\n",
    "test_string = 'HelloWorldHowAreYou'\n",
    "\n",
    "split_string = re.findall('[A-Z][^A-Z]*', test_string)\n",
    "\n",
    "print('Original string:', test_string)\n",
    "print('Split string:', split_string)"
   ]
  },
  {
   "cell_type": "markdown",
   "metadata": {},
   "source": [
    "Task 9"
   ]
  },
  {
   "cell_type": "code",
   "execution_count": null,
   "metadata": {},
   "outputs": [],
   "source": [
    "import re\n",
    "\n",
    "\n",
    "pattern = r'([a-z])([A-Z])'\n",
    "\n",
    "\n",
    "test_string = 'HelloWorldHowAreYou'\n",
    "\n",
    "\n",
    "new_string = re.sub(pattern, r'\\1 \\2', test_string)\n",
    "\n",
    "\n",
    "print('Original string:', test_string)\n",
    "print('New string:', new_string)"
   ]
  },
  {
   "cell_type": "markdown",
   "metadata": {},
   "source": [
    "Task 10"
   ]
  },
  {
   "cell_type": "code",
   "execution_count": null,
   "metadata": {},
   "outputs": [],
   "source": [
    "import re\n",
    "\n",
    "camel_string = 'HelloWorldHowAreYou'\n",
    "\n",
    "\n",
    "snake_string = re.sub(r'(?<!^)(?=[A-Z])', '_',camel_string).lower()\n",
    "\n",
    "print('Original string:', camel_string)\n",
    "print('Snake case string:', snake_string)"
   ]
  }
 ],
 "metadata": {
  "kernelspec": {
   "display_name": "Python 3 (ipykernel)",
   "language": "python",
   "name": "python3"
  },
  "language_info": {
   "codemirror_mode": {
    "name": "ipython",
    "version": 3
   },
   "file_extension": ".py",
   "mimetype": "text/x-python",
   "name": "python",
   "nbconvert_exporter": "python",
   "pygments_lexer": "ipython3",
   "version": "3.9.13"
  }
 },
 "nbformat": 4,
 "nbformat_minor": 2
}
