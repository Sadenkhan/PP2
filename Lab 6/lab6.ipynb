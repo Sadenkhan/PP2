{
 "cells": [
  {
   "cell_type": "markdown",
   "metadata": {},
   "source": [
    "Directories and files"
   ]
  },
  {
   "cell_type": "markdown",
   "metadata": {},
   "source": [
    "Task1"
   ]
  },
  {
   "cell_type": "code",
   "execution_count": 5,
   "metadata": {},
   "outputs": [
    {
     "name": "stdout",
     "output_type": "stream",
     "text": [
      "Items in C:/Users/saden/Desktop/PP2/:\n",
      ".ipynb_checkpoints\n",
      "example.py\n",
      "first.ipynb\n",
      "GitHub Desktop.lnk\n",
      "lab5.ipynb\n",
      "lab6.ipynb\n",
      "sample-data.json\n",
      "second.ipynb\n",
      "Task13.py\n",
      "test.py\n",
      "testing.cpp\n",
      "third.ipynb\n",
      "tsis4.ipynb\n",
      "__pycache__\n"
     ]
    }
   ],
   "source": [
    "import os\n",
    "\n",
    "path = \"C:/Users/saden/Desktop/PP2/\"\n",
    "\n",
    "\n",
    "items = [name for name in os.listdir(path)]\n",
    "\n",
    "print(\"Items in {}:\".format(path))\n",
    "for item in items:\n",
    "    print(item)"
   ]
  },
  {
   "cell_type": "markdown",
   "metadata": {},
   "source": [
    "Task2"
   ]
  },
  {
   "cell_type": "code",
   "execution_count": 6,
   "metadata": {},
   "outputs": [
    {
     "name": "stdout",
     "output_type": "stream",
     "text": [
      "Path exists\n",
      "Path is readable\n",
      "Path is writable\n",
      "Path is executable\n"
     ]
    }
   ],
   "source": [
    "import os\n",
    "\n",
    "path = \"C:/Users/saden/Desktop/PP2/\"\n",
    "\n",
    "if os.path.exists(path):\n",
    "    print(\"Path exists\")\n",
    "\n",
    "    if os.access(path, os.R_OK):\n",
    "        print(\"Path is readable\")\n",
    "    else:\n",
    "        print(\"Path is not readable\")\n",
    "\n",
    "    if os.access(path, os.W_OK):\n",
    "        print(\"Path is writable\")\n",
    "    else:\n",
    "        print(\"Path is not writable\")\n",
    "\n",
    "    if os.access(path, os.X_OK):\n",
    "        print(\"Path is executable\")\n",
    "    else:\n",
    "        print(\"Path is not executable\")\n",
    "\n",
    "else:\n",
    "    print(\"Path does not exist\")"
   ]
  },
  {
   "cell_type": "markdown",
   "metadata": {},
   "source": [
    "Task3"
   ]
  },
  {
   "cell_type": "code",
   "execution_count": 8,
   "metadata": {
    "scrolled": true
   },
   "outputs": [
    {
     "name": "stdout",
     "output_type": "stream",
     "text": [
      "Test a path exists or not:\n",
      "True\n",
      "True\n",
      "\n",
      "File name of the path:\n",
      "\n",
      "\n",
      "Dir name of the path:\n",
      "C:/Users/saden/Desktop/PP2\n"
     ]
    }
   ],
   "source": [
    "'''\n",
    "import os\n",
    "\n",
    "path = \"C:/Users/saden/Desktop/PP2/\"\n",
    "\n",
    "if os.path.exists(path):\n",
    "    print(\"Path exists\")\n",
    "\n",
    "    directory = os.path.dirname(path)\n",
    "    print(\"Directory: \", directory)\n",
    "\n",
    "    \n",
    "    filename = os.path.basename(path)\n",
    "    print(\"Filename: \", filename)\n",
    "\n",
    "else:\n",
    "    print(\"Path does not exist\")\n",
    "'''\n",
    "\n",
    "import os\n",
    "print(\"Test a path exists or not:\")\n",
    "path = r'C:/Users/saden/Desktop/PP2/'\n",
    "print(os.path.exists(path))\n",
    "path = r'C:/Users/saden/Desktop/PP2/'\n",
    "print(os.path.exists(path))\n",
    "print(\"\\nFile name of the path:\")\n",
    "print(os.path.basename(path))\n",
    "print(\"\\nDir name of the path:\")\n",
    "print(os.path.dirname(path))"
   ]
  },
  {
   "cell_type": "markdown",
   "metadata": {},
   "source": [
    "Task4"
   ]
  },
  {
   "cell_type": "code",
   "execution_count": 14,
   "metadata": {},
   "outputs": [
    {
     "name": "stdout",
     "output_type": "stream",
     "text": [
      "The file lab6.ipynb contains 233 lines.\n"
     ]
    }
   ],
   "source": [
    "filename = \"C:/Users/saden/Desktop/PP2/lab6.ipynb\"\n",
    "line_count = 0\n",
    "\n",
    "with open(filename, \"r\") as file:\n",
    "    for line in file:\n",
    "        line_count += 1\n",
    "rev_filename = filename[::-1]\n",
    "ind = rev_filename.index('/')\n",
    "index = len(filename)-ind\n",
    "filenm = filename[index:]\n",
    "print(\"The file\", filenm, \"contains\", line_count, \"lines.\")"
   ]
  },
  {
   "cell_type": "markdown",
   "metadata": {},
   "source": [
    "Task5"
   ]
  },
  {
   "cell_type": "code",
   "execution_count": 16,
   "metadata": {},
   "outputs": [
    {
     "name": "stdout",
     "output_type": "stream",
     "text": [
      "List written to file Task5.txt\n"
     ]
    }
   ],
   "source": [
    "my_list = [\"apple\", \"banana\", \"orange\", \"pear\"]\n",
    "filename = \"C:/Users/saden/Desktop/PP2/Task5.txt\"\n",
    "\n",
    "with open(filename, \"w\") as file:\n",
    "    for item in my_list:\n",
    "        file.write(item + \"\\n\")\n",
    "rev_filename = filename[::-1]\n",
    "ind = rev_filename.index('/')\n",
    "index = len(filename)-ind\n",
    "filenm = filename[index:]\n",
    "print(\"List written to file\", filenm)"
   ]
  },
  {
   "cell_type": "markdown",
   "metadata": {},
   "source": [
    "Task6"
   ]
  },
  {
   "cell_type": "code",
   "execution_count": 17,
   "metadata": {},
   "outputs": [
    {
     "name": "stdout",
     "output_type": "stream",
     "text": [
      "File A.txt created.\n",
      "File B.txt created.\n",
      "File C.txt created.\n",
      "File D.txt created.\n",
      "File E.txt created.\n",
      "File F.txt created.\n",
      "File G.txt created.\n",
      "File H.txt created.\n",
      "File I.txt created.\n",
      "File J.txt created.\n",
      "File K.txt created.\n",
      "File L.txt created.\n",
      "File M.txt created.\n",
      "File N.txt created.\n",
      "File O.txt created.\n",
      "File P.txt created.\n",
      "File Q.txt created.\n",
      "File R.txt created.\n",
      "File S.txt created.\n",
      "File T.txt created.\n",
      "File U.txt created.\n",
      "File V.txt created.\n",
      "File W.txt created.\n",
      "File X.txt created.\n",
      "File Y.txt created.\n",
      "File Z.txt created.\n"
     ]
    }
   ],
   "source": [
    "import string\n",
    "\n",
    "alphabet = string.ascii_uppercase\n",
    "\n",
    "for letter in alphabet:\n",
    "    filename = letter + \".txt\"\n",
    "    with open(filename, \"w\") as file:\n",
    "        file.write(\"This is the file \" + filename)\n",
    "    print(\"File\", filename, \"created.\")"
   ]
  },
  {
   "cell_type": "markdown",
   "metadata": {},
   "source": [
    "Task7"
   ]
  },
  {
   "cell_type": "code",
   "execution_count": 21,
   "metadata": {},
   "outputs": [
    {
     "name": "stdout",
     "output_type": "stream",
     "text": [
      "Text succesfully copied\n"
     ]
    }
   ],
   "source": [
    "\n",
    "with open('input.txt', 'r') as input_file:\n",
    "\n",
    "    \n",
    "    contents = input_file.read()\n",
    "\n",
    "\n",
    "with open('output.txt', 'w') as output_file:\n",
    "\n",
    "    \n",
    "    output_file.write(contents)\n",
    "\n",
    "print(\"Text succesfully copied\")"
   ]
  },
  {
   "cell_type": "markdown",
   "metadata": {},
   "source": [
    "Task8"
   ]
  },
  {
   "cell_type": "code",
   "execution_count": 22,
   "metadata": {},
   "outputs": [
    {
     "name": "stdout",
     "output_type": "stream",
     "text": [
      "File C:/Users/saden/Desktop/PP2/task8/Target.txt has been deleted successfully.\n"
     ]
    }
   ],
   "source": [
    "import os\n",
    "\n",
    "\n",
    "file_path = \"C:/Users/saden/Desktop/PP2/task8/Target.txt\"\n",
    "\n",
    "\n",
    "if os.path.exists(file_path):\n",
    "    \n",
    "    \n",
    "    if os.access(file_path, os.R_OK):\n",
    "        \n",
    "       \n",
    "        os.remove(file_path)\n",
    "        print(\"File {file_path} has been deleted successfully.\".format(file_path=file_path))\n",
    "        \n",
    "    else:\n",
    "        print(\"You do not have access to the file {file_path}.\".format(file_path=file_path))\n",
    "        \n",
    "else:\n",
    "    print(\"The file {file_path} does not exist.\".format(file_path=file_path))"
   ]
  },
  {
   "cell_type": "markdown",
   "metadata": {},
   "source": [
    "Builtin function"
   ]
  },
  {
   "cell_type": "markdown",
   "metadata": {},
   "source": [
    "Task1"
   ]
  },
  {
   "cell_type": "code",
   "execution_count": 26,
   "metadata": {},
   "outputs": [
    {
     "name": "stdout",
     "output_type": "stream",
     "text": [
      "5 5 2\n",
      "Result: 50\n"
     ]
    }
   ],
   "source": [
    "from functools import reduce\n",
    "\n",
    "def multiply(numbers):\n",
    "    return reduce(lambda x, y: x*y, numbers)\n",
    "\n",
    "numbers = list(map(int,input().split()))\n",
    "result = multiply(numbers)\n",
    "\n",
    "print(\"Result:\", result)"
   ]
  },
  {
   "cell_type": "markdown",
   "metadata": {},
   "source": [
    "Task2"
   ]
  },
  {
   "cell_type": "code",
   "execution_count": 27,
   "metadata": {},
   "outputs": [
    {
     "name": "stdout",
     "output_type": "stream",
     "text": [
      "Saden\n",
      "Uppercase Count: 1\n",
      "Lowercase Count: 4\n"
     ]
    }
   ],
   "source": [
    "def count_upper_lower(string):\n",
    "    upper_count = 0\n",
    "    lower_count = 0\n",
    "    for char in string:\n",
    "        if char.isupper():\n",
    "            upper_count += 1\n",
    "        elif char.islower():\n",
    "            lower_count += 1\n",
    "    return upper_count, lower_count\n",
    "\n",
    "string = str(input())\n",
    "upper_count, lower_count = count_upper_lower(string)\n",
    "\n",
    "print(\"Uppercase Count:\", upper_count)\n",
    "print(\"Lowercase Count:\", lower_count)"
   ]
  },
  {
   "cell_type": "markdown",
   "metadata": {},
   "source": [
    "Task3"
   ]
  },
  {
   "cell_type": "code",
   "execution_count": 29,
   "metadata": {},
   "outputs": [
    {
     "name": "stdout",
     "output_type": "stream",
     "text": [
      "dad\n",
      "True\n"
     ]
    }
   ],
   "source": [
    "def Palindrome(string):\n",
    "    rev_str = string[::-1]\n",
    "    if string.lower() == rev_str.lower():\n",
    "        return True\n",
    "\n",
    "    else:\n",
    "        return False\n",
    "\n",
    "string = input()\n",
    "print(Palindrome(string))"
   ]
  },
  {
   "cell_type": "markdown",
   "metadata": {},
   "source": [
    "Task4"
   ]
  },
  {
   "cell_type": "code",
   "execution_count": 33,
   "metadata": {},
   "outputs": [
    {
     "name": "stdout",
     "output_type": "stream",
     "text": [
      "Enter a number to compute the square root of: 100\n",
      "Enter the number of milliseconds to wait: 1000\n",
      "Square root of 100 after 1000 milliseconds is 10.0\n"
     ]
    }
   ],
   "source": [
    "import math\n",
    "import time\n",
    "\n",
    "def delayed_sqrt(x, milliseconds):\n",
    "    time.sleep(milliseconds / 1000)\n",
    "    return math.sqrt(x)\n",
    "\n",
    "x = int(input(\"Enter a number to compute the square root of: \"))\n",
    "milliseconds = int(input(\"Enter the number of milliseconds to wait: \"))\n",
    "\n",
    "result = delayed_sqrt(x, milliseconds)\n",
    "\n",
    "print(\"Square root of {x} after {milliseconds} milliseconds is {result}\".format(x=x,milliseconds=milliseconds,result=result))"
   ]
  },
  {
   "cell_type": "markdown",
   "metadata": {},
   "source": [
    "Task5"
   ]
  },
  {
   "cell_type": "code",
   "execution_count": 34,
   "metadata": {},
   "outputs": [
    {
     "name": "stdout",
     "output_type": "stream",
     "text": [
      "Not all elements in the tuple are true\n"
     ]
    }
   ],
   "source": [
    "def TupleTrue():\n",
    "    my_tuple = (True, True, False, True)\n",
    "\n",
    "    if all(my_tuple):\n",
    "        print(\"All elements in the tuple are true\")\n",
    "    else:\n",
    "        print(\"Not all elements in the tuple are true\")\n",
    "\n",
    "\n",
    "TupleTrue()"
   ]
  },
  {
   "cell_type": "code",
   "execution_count": null,
   "metadata": {},
   "outputs": [],
   "source": []
  }
 ],
 "metadata": {
  "kernelspec": {
   "display_name": "Python 3 (ipykernel)",
   "language": "python",
   "name": "python3"
  },
  "language_info": {
   "codemirror_mode": {
    "name": "ipython",
    "version": 3
   },
   "file_extension": ".py",
   "mimetype": "text/x-python",
   "name": "python",
   "nbconvert_exporter": "python",
   "pygments_lexer": "ipython3",
   "version": "3.9.13"
  }
 },
 "nbformat": 4,
 "nbformat_minor": 2
}
