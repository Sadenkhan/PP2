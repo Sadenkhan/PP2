{
 "cells": [
  {
   "cell_type": "markdown",
   "metadata": {},
   "source": [
    "DATE"
   ]
  },
  {
   "cell_type": "markdown",
   "metadata": {},
   "source": [
    "task 1"
   ]
  },
  {
   "cell_type": "code",
   "execution_count": 1,
   "metadata": {},
   "outputs": [
    {
     "name": "stdout",
     "output_type": "stream",
     "text": [
      "Today: 2023-02-22 \n",
      "Five days before today was: 2023-02-17\n"
     ]
    }
   ],
   "source": [
    "import datetime\n",
    "\n",
    "\n",
    "current_date = datetime.date.today()\n",
    "\n",
    "\n",
    "new_date = current_date - datetime.timedelta(days=5)\n",
    "\n",
    "\n",
    "print(\"Today:\",current_date,'\\nFive days before today was:', new_date)"
   ]
  },
  {
   "cell_type": "markdown",
   "metadata": {},
   "source": [
    "task 2"
   ]
  },
  {
   "cell_type": "code",
   "execution_count": 2,
   "metadata": {},
   "outputs": [
    {
     "name": "stdout",
     "output_type": "stream",
     "text": [
      "Yesterday: 2023-02-21\n",
      "Today: 2023-02-22\n",
      "Tomorrow: 2023-02-23\n"
     ]
    }
   ],
   "source": [
    "import datetime\n",
    "\n",
    "today = datetime.date.today()\n",
    "\n",
    "yesterday = today - datetime.timedelta(days=1)\n",
    "\n",
    "tomorrow = today + datetime.timedelta(days=1)\n",
    "\n",
    "print(\"Yesterday:\", yesterday)\n",
    "print(\"Today:\", today)\n",
    "print(\"Tomorrow:\", tomorrow)"
   ]
  },
  {
   "cell_type": "markdown",
   "metadata": {},
   "source": [
    "task 3"
   ]
  },
  {
   "cell_type": "code",
   "execution_count": 3,
   "metadata": {},
   "outputs": [
    {
     "name": "stdout",
     "output_type": "stream",
     "text": [
      "Datetime with microseconds: 2023-02-22 23:36:38.113114\n",
      "Datetime without microseconds: 2023-02-22 23:36:38\n"
     ]
    }
   ],
   "source": [
    "import datetime\n",
    "\n",
    "dt_with_microseconds = datetime.datetime.now()\n",
    "\n",
    "dt_without_microseconds = dt_with_microseconds.replace(microsecond=0)\n",
    "\n",
    "print(\"Datetime with microseconds:\", dt_with_microseconds)\n",
    "print(\"Datetime without microseconds:\", dt_without_microseconds)"
   ]
  },
  {
   "cell_type": "markdown",
   "metadata": {},
   "source": [
    "task 4"
   ]
  },
  {
   "cell_type": "code",
   "execution_count": 5,
   "metadata": {},
   "outputs": [
    {
     "name": "stdout",
     "output_type": "stream",
     "text": [
      "1st date: 15.02.2023\n",
      "2nd date: 22.02.2023\n"
     ]
    },
    {
     "ename": "ValueError",
     "evalue": "time data '15.02.2023' does not match format '%Y-%m-%d %H:%M:%S'",
     "output_type": "error",
     "traceback": [
      "\u001b[1;31m---------------------------------------------------------------------------\u001b[0m",
      "\u001b[1;31mValueError\u001b[0m                                Traceback (most recent call last)",
      "\u001b[1;32m~\\AppData\\Local\\Temp\\ipykernel_7968\\407279034.py\u001b[0m in \u001b[0;36m<module>\u001b[1;34m\u001b[0m\n\u001b[0;32m     16\u001b[0m \u001b[0mdate2\u001b[0m \u001b[1;33m=\u001b[0m \u001b[0minput\u001b[0m\u001b[1;33m(\u001b[0m\u001b[1;34m'2nd date: '\u001b[0m\u001b[1;33m)\u001b[0m\u001b[1;33m\u001b[0m\u001b[1;33m\u001b[0m\u001b[0m\n\u001b[0;32m     17\u001b[0m \u001b[1;33m\u001b[0m\u001b[0m\n\u001b[1;32m---> 18\u001b[1;33m \u001b[0mdiff_seconds\u001b[0m \u001b[1;33m=\u001b[0m \u001b[0mdate_difference_seconds\u001b[0m\u001b[1;33m(\u001b[0m\u001b[0mdate1\u001b[0m\u001b[1;33m,\u001b[0m \u001b[0mdate2\u001b[0m\u001b[1;33m)\u001b[0m\u001b[1;33m\u001b[0m\u001b[1;33m\u001b[0m\u001b[0m\n\u001b[0m\u001b[0;32m     19\u001b[0m \u001b[0mprint\u001b[0m\u001b[1;33m(\u001b[0m\u001b[1;34m\"The difference between {date1} and {date2} is {diff_seconds} seconds.\"\u001b[0m\u001b[1;33m.\u001b[0m\u001b[0mformat\u001b[0m\u001b[1;33m(\u001b[0m\u001b[0mdate1\u001b[0m \u001b[1;33m=\u001b[0m \u001b[0mdate1\u001b[0m\u001b[1;33m,\u001b[0m\u001b[0mdate2\u001b[0m\u001b[1;33m=\u001b[0m\u001b[0mdate2\u001b[0m\u001b[1;33m,\u001b[0m\u001b[0mdiff_seconds\u001b[0m\u001b[1;33m=\u001b[0m\u001b[0mdiff_seconds\u001b[0m\u001b[1;33m)\u001b[0m\u001b[1;33m)\u001b[0m\u001b[1;33m\u001b[0m\u001b[1;33m\u001b[0m\u001b[0m\n",
      "\u001b[1;32m~\\AppData\\Local\\Temp\\ipykernel_7968\\407279034.py\u001b[0m in \u001b[0;36mdate_difference_seconds\u001b[1;34m(date1, date2)\u001b[0m\n\u001b[0;32m      4\u001b[0m \u001b[1;33m\u001b[0m\u001b[0m\n\u001b[0;32m      5\u001b[0m     \u001b[1;31m# Convert date strings to datetime objects\u001b[0m\u001b[1;33m\u001b[0m\u001b[1;33m\u001b[0m\u001b[0m\n\u001b[1;32m----> 6\u001b[1;33m     \u001b[0mdt1\u001b[0m \u001b[1;33m=\u001b[0m \u001b[0mdatetime\u001b[0m\u001b[1;33m.\u001b[0m\u001b[0mstrptime\u001b[0m\u001b[1;33m(\u001b[0m\u001b[0mdate1\u001b[0m\u001b[1;33m,\u001b[0m \u001b[1;34m'%Y-%m-%d %H:%M:%S'\u001b[0m\u001b[1;33m)\u001b[0m\u001b[1;33m\u001b[0m\u001b[1;33m\u001b[0m\u001b[0m\n\u001b[0m\u001b[0;32m      7\u001b[0m     \u001b[0mdt2\u001b[0m \u001b[1;33m=\u001b[0m \u001b[0mdatetime\u001b[0m\u001b[1;33m.\u001b[0m\u001b[0mstrptime\u001b[0m\u001b[1;33m(\u001b[0m\u001b[0mdate2\u001b[0m\u001b[1;33m,\u001b[0m \u001b[1;34m'%Y-%m-%d %H:%M:%S'\u001b[0m\u001b[1;33m)\u001b[0m\u001b[1;33m\u001b[0m\u001b[1;33m\u001b[0m\u001b[0m\n\u001b[0;32m      8\u001b[0m \u001b[1;33m\u001b[0m\u001b[0m\n",
      "\u001b[1;32mC:\\ProgramData\\Anaconda3\\lib\\_strptime.py\u001b[0m in \u001b[0;36m_strptime_datetime\u001b[1;34m(cls, data_string, format)\u001b[0m\n\u001b[0;32m    566\u001b[0m     \"\"\"Return a class cls instance based on the input string and the\n\u001b[0;32m    567\u001b[0m     format string.\"\"\"\n\u001b[1;32m--> 568\u001b[1;33m     \u001b[0mtt\u001b[0m\u001b[1;33m,\u001b[0m \u001b[0mfraction\u001b[0m\u001b[1;33m,\u001b[0m \u001b[0mgmtoff_fraction\u001b[0m \u001b[1;33m=\u001b[0m \u001b[0m_strptime\u001b[0m\u001b[1;33m(\u001b[0m\u001b[0mdata_string\u001b[0m\u001b[1;33m,\u001b[0m \u001b[0mformat\u001b[0m\u001b[1;33m)\u001b[0m\u001b[1;33m\u001b[0m\u001b[1;33m\u001b[0m\u001b[0m\n\u001b[0m\u001b[0;32m    569\u001b[0m     \u001b[0mtzname\u001b[0m\u001b[1;33m,\u001b[0m \u001b[0mgmtoff\u001b[0m \u001b[1;33m=\u001b[0m \u001b[0mtt\u001b[0m\u001b[1;33m[\u001b[0m\u001b[1;33m-\u001b[0m\u001b[1;36m2\u001b[0m\u001b[1;33m:\u001b[0m\u001b[1;33m]\u001b[0m\u001b[1;33m\u001b[0m\u001b[1;33m\u001b[0m\u001b[0m\n\u001b[0;32m    570\u001b[0m     \u001b[0margs\u001b[0m \u001b[1;33m=\u001b[0m \u001b[0mtt\u001b[0m\u001b[1;33m[\u001b[0m\u001b[1;33m:\u001b[0m\u001b[1;36m6\u001b[0m\u001b[1;33m]\u001b[0m \u001b[1;33m+\u001b[0m \u001b[1;33m(\u001b[0m\u001b[0mfraction\u001b[0m\u001b[1;33m,\u001b[0m\u001b[1;33m)\u001b[0m\u001b[1;33m\u001b[0m\u001b[1;33m\u001b[0m\u001b[0m\n",
      "\u001b[1;32mC:\\ProgramData\\Anaconda3\\lib\\_strptime.py\u001b[0m in \u001b[0;36m_strptime\u001b[1;34m(data_string, format)\u001b[0m\n\u001b[0;32m    347\u001b[0m     \u001b[0mfound\u001b[0m \u001b[1;33m=\u001b[0m \u001b[0mformat_regex\u001b[0m\u001b[1;33m.\u001b[0m\u001b[0mmatch\u001b[0m\u001b[1;33m(\u001b[0m\u001b[0mdata_string\u001b[0m\u001b[1;33m)\u001b[0m\u001b[1;33m\u001b[0m\u001b[1;33m\u001b[0m\u001b[0m\n\u001b[0;32m    348\u001b[0m     \u001b[1;32mif\u001b[0m \u001b[1;32mnot\u001b[0m \u001b[0mfound\u001b[0m\u001b[1;33m:\u001b[0m\u001b[1;33m\u001b[0m\u001b[1;33m\u001b[0m\u001b[0m\n\u001b[1;32m--> 349\u001b[1;33m         raise ValueError(\"time data %r does not match format %r\" %\n\u001b[0m\u001b[0;32m    350\u001b[0m                          (data_string, format))\n\u001b[0;32m    351\u001b[0m     \u001b[1;32mif\u001b[0m \u001b[0mlen\u001b[0m\u001b[1;33m(\u001b[0m\u001b[0mdata_string\u001b[0m\u001b[1;33m)\u001b[0m \u001b[1;33m!=\u001b[0m \u001b[0mfound\u001b[0m\u001b[1;33m.\u001b[0m\u001b[0mend\u001b[0m\u001b[1;33m(\u001b[0m\u001b[1;33m)\u001b[0m\u001b[1;33m:\u001b[0m\u001b[1;33m\u001b[0m\u001b[1;33m\u001b[0m\u001b[0m\n",
      "\u001b[1;31mValueError\u001b[0m: time data '15.02.2023' does not match format '%Y-%m-%d %H:%M:%S'"
     ]
    }
   ],
   "source": [
    "from datetime import datetime\n",
    "\n",
    "def date_difference_seconds(date1, date2):\n",
    "    \n",
    "    # Convert date strings to datetime objects\n",
    "    dt1 = datetime.strptime(date1, '%Y-%m-%d %H:%M:%S')\n",
    "    dt2 = datetime.strptime(date2, '%Y-%m-%d %H:%M:%S')\n",
    "    \n",
    "    # Calculate the difference in seconds\n",
    "    diff_seconds = (dt2 - dt1).total_seconds()\n",
    "    \n",
    "    return diff_seconds\n",
    "\n",
    "# Example usage\n",
    "date1 = input('1st date: ')\n",
    "date2 = input('2nd date: ')\n",
    "\n",
    "diff_seconds = date_difference_seconds(date1, date2)\n",
    "print(\"The difference between {date1} and {date2} is {diff_seconds} seconds.\".format(date1 = date1,date2=date2,diff_seconds=diff_seconds))"
   ]
  },
  {
   "cell_type": "markdown",
   "metadata": {},
   "source": [
    "GENERATE"
   ]
  },
  {
   "cell_type": "markdown",
   "metadata": {},
   "source": [
    "task 1"
   ]
  },
  {
   "cell_type": "code",
   "execution_count": 6,
   "metadata": {},
   "outputs": [
    {
     "name": "stdout",
     "output_type": "stream",
     "text": [
      "15\n",
      "1\n",
      "4\n",
      "9\n",
      "16\n",
      "25\n",
      "36\n",
      "49\n",
      "64\n",
      "81\n",
      "100\n",
      "121\n",
      "144\n",
      "169\n",
      "196\n",
      "225\n"
     ]
    }
   ],
   "source": [
    "def square_generator(N):\n",
    "   \n",
    "    i = 1\n",
    "    while i <= N:\n",
    "        yield i*i\n",
    "        i += 1\n",
    "\n",
    "N = int(input())\n",
    "for square in square_generator(N):\n",
    "    print(square)"
   ]
  },
  {
   "cell_type": "markdown",
   "metadata": {},
   "source": [
    "task 2"
   ]
  },
  {
   "cell_type": "code",
   "execution_count": 7,
   "metadata": {},
   "outputs": [
    {
     "name": "stdout",
     "output_type": "stream",
     "text": [
      "Enter the value of n: 15\n",
      "Even numbers between 0 and 15 are: 0, 2, 4, 6, 8, 10, 12, 14"
     ]
    }
   ],
   "source": [
    "def even_numbers(n):\n",
    "   \n",
    "    i = 0\n",
    "    while i <= n:\n",
    "        if i % 2 == 0:\n",
    "            yield i\n",
    "        i += 1\n",
    "\n",
    "n = int(input(\"Enter the value of n: \"))\n",
    "\n",
    "even_nums = even_numbers(n)\n",
    "print(\"Even numbers between 0 and\", n, \"are:\", end=\" \")\n",
    "\n",
    "for num in even_nums:\n",
    "    print(num, end=\"\")\n",
    "    if num != n and (num != n-1 and num != n-2):\n",
    "        print(\",\", end=\" \")"
   ]
  },
  {
   "cell_type": "markdown",
   "metadata": {},
   "source": [
    "task 3"
   ]
  },
  {
   "cell_type": "code",
   "execution_count": 8,
   "metadata": {},
   "outputs": [
    {
     "name": "stdout",
     "output_type": "stream",
     "text": [
      "15\n",
      "0\n",
      "12\n"
     ]
    }
   ],
   "source": [
    "def dtf(n):\n",
    "    i = 0\n",
    "    for i in range(n+1):\n",
    "        if i % 3 == 0 and i % 4 == 0:\n",
    "            yield i\n",
    "\n",
    "n = int(input())\n",
    "for num in dtf(n):\n",
    "    print(num)"
   ]
  },
  {
   "cell_type": "markdown",
   "metadata": {},
   "source": [
    "task  4"
   ]
  },
  {
   "cell_type": "code",
   "execution_count": 18,
   "metadata": {},
   "outputs": [
    {
     "name": "stdout",
     "output_type": "stream",
     "text": [
      "1 2\n",
      "1\n",
      "4\n"
     ]
    }
   ],
   "source": [
    "def squares(a, b):\n",
    "    \n",
    "    for i in range(a, b+1):\n",
    "        yield i*i\n",
    "\n",
    "a,b = map(int,input().split())\n",
    "for square in squares(a, b):\n",
    "    print(square)\n",
    "\n",
    "\n"
   ]
  },
  {
   "cell_type": "markdown",
   "metadata": {},
   "source": [
    "task 5"
   ]
  },
  {
   "cell_type": "code",
   "execution_count": 19,
   "metadata": {},
   "outputs": [
    {
     "name": "stdout",
     "output_type": "stream",
     "text": [
      "5\n",
      "5\n",
      "4\n",
      "3\n",
      "2\n",
      "1\n"
     ]
    }
   ],
   "source": [
    "def cd(n):\n",
    "    \n",
    "    for i in range(n, -1, -1):\n",
    "        if (i==0):\n",
    "            break\n",
    "        yield i\n",
    "\n",
    "n = int(input())\n",
    "for num in cd(n):\n",
    "    print(num)"
   ]
  },
  {
   "cell_type": "markdown",
   "metadata": {},
   "source": [
    "JSON"
   ]
  },
  {
   "cell_type": "code",
   "execution_count": 21,
   "metadata": {},
   "outputs": [
    {
     "name": "stdout",
     "output_type": "stream",
     "text": [
      "Interface Status\n",
      "================================================================================\n",
      "DN                                                 Description               Speed    MTU   \n",
      "--------------------------------------------------------------------------------\n",
      "topology/pod-1/node-201/sys/phys-[eth1/33]                                   inherit  9150  \n",
      "topology/pod-1/node-201/sys/phys-[eth1/34]                                   inherit  9150  \n",
      "topology/pod-1/node-201/sys/phys-[eth1/35]                                   inherit  9150  \n",
      "topology/pod-1/node-201/sys/phys-[eth1/36]                                   inherit  9150  \n",
      "topology/pod-1/node-201/sys/phys-[eth1/1]                                    inherit  9150  \n",
      "topology/pod-1/node-201/sys/phys-[eth1/2]                                    inherit  9150  \n",
      "topology/pod-1/node-201/sys/phys-[eth1/3]                                    inherit  9150  \n",
      "topology/pod-1/node-201/sys/phys-[eth1/4]                                    inherit  9150  \n",
      "topology/pod-1/node-201/sys/phys-[eth1/5]                                    inherit  9150  \n",
      "topology/pod-1/node-201/sys/phys-[eth1/6]                                    inherit  9150  \n",
      "topology/pod-1/node-201/sys/phys-[eth1/7]                                    inherit  9150  \n",
      "topology/pod-1/node-201/sys/phys-[eth1/8]                                    inherit  9150  \n",
      "topology/pod-1/node-201/sys/phys-[eth1/9]                                    inherit  9150  \n",
      "topology/pod-1/node-201/sys/phys-[eth1/10]                                   inherit  9150  \n",
      "topology/pod-1/node-201/sys/phys-[eth1/11]                                   inherit  9150  \n",
      "topology/pod-1/node-201/sys/phys-[eth1/12]                                   inherit  9150  \n",
      "topology/pod-1/node-201/sys/phys-[eth1/13]                                   inherit  9150  \n",
      "topology/pod-1/node-201/sys/phys-[eth1/14]                                   inherit  9150  \n"
     ]
    }
   ],
   "source": [
    "import json\n",
    "\n",
    "\n",
    "with open('sample-data.json', 'r') as f:\n",
    "    data = json.load(f)\n",
    "\n",
    "\n",
    "print(\"Interface Status\")\n",
    "print(\"=\"*80)\n",
    "print(\"{:<50} {:<25} {:<8} {:<6}\".format(\"DN\", \"Description\", \"Speed\", \"MTU\"))\n",
    "print(\"-\"*80)\n",
    "\n",
    "\n",
    "for intf in data['imdata']:\n",
    "    dn = intf['l1PhysIf']['attributes']['dn']\n",
    "    descr = intf['l1PhysIf']['attributes']['descr']\n",
    "    speed = intf['l1PhysIf']['attributes']['speed']\n",
    "    mtu = intf['l1PhysIf']['attributes']['mtu']\n",
    "    print(\"{:<50} {:<25} {:<8} {:<6}\".format(dn, descr, speed, mtu))"
   ]
  },
  {
   "cell_type": "markdown",
   "metadata": {},
   "source": [
    "MATH"
   ]
  },
  {
   "cell_type": "markdown",
   "metadata": {},
   "source": [
    "task 1"
   ]
  },
  {
   "cell_type": "code",
   "execution_count": 22,
   "metadata": {},
   "outputs": [
    {
     "name": "stdout",
     "output_type": "stream",
     "text": [
      "Input degree: 3\n",
      "Output radian: 0.05236\n"
     ]
    }
   ],
   "source": [
    "import math\n",
    "\n",
    "def degree_to_radian(degrees):\n",
    "   \n",
    "    radians = math.radians(degrees)\n",
    "    return round(radians, 6)\n",
    "\n",
    "\n",
    "degrees = int(input('Input degree: '))\n",
    "radians = degree_to_radian(degrees)\n",
    "print('Output radian:',radians)"
   ]
  },
  {
   "cell_type": "markdown",
   "metadata": {},
   "source": [
    "task 2"
   ]
  },
  {
   "cell_type": "code",
   "execution_count": 24,
   "metadata": {},
   "outputs": [
    {
     "name": "stdout",
     "output_type": "stream",
     "text": [
      "Height: 3\n",
      "Base, first value: 5\n",
      "Base, second value: 6\n",
      "Expected Output: 16.5\n"
     ]
    }
   ],
   "source": [
    "def trapezoid_area(a, b, h):\n",
    "    \n",
    "    area = 0.5 * (a + b) * h\n",
    "    return area\n",
    "\n",
    "h = int(input(\"Height: \"))\n",
    "a = int(input(\"Base, first value: \"))\n",
    "b = int(input(\"Base, second value: \"))\n",
    "\n",
    "area = trapezoid_area(a, b, h)\n",
    "print('Expected Output:',area)"
   ]
  },
  {
   "cell_type": "markdown",
   "metadata": {},
   "source": [
    "task 3"
   ]
  },
  {
   "cell_type": "code",
   "execution_count": 25,
   "metadata": {},
   "outputs": [
    {
     "name": "stdout",
     "output_type": "stream",
     "text": [
      "Input number of sides: 3\n",
      "Input the length of a side: 6\n",
      "The area of the polygon is: 16\n"
     ]
    }
   ],
   "source": [
    "import math\n",
    "\n",
    "def polygon_area(n, s):\n",
    "    \n",
    "    area = (n * s ** 2) / (4 * math.tan(math.pi / n))\n",
    "    return area\n",
    "\n",
    "n = int(input('Input number of sides: '))\n",
    "s = int(input('Input the length of a side: '))\n",
    "area = polygon_area(n, s)\n",
    "print('The area of the polygon is:',round(area))"
   ]
  },
  {
   "cell_type": "markdown",
   "metadata": {},
   "source": [
    "task 4"
   ]
  },
  {
   "cell_type": "code",
   "execution_count": 26,
   "metadata": {},
   "outputs": [
    {
     "name": "stdout",
     "output_type": "stream",
     "text": [
      "Length of base: 5\n",
      "Height of parallelogram: 9\n",
      "Expected Output: 45.0\n"
     ]
    }
   ],
   "source": [
    "def parallelogram_area(l, h):\n",
    "    \n",
    "    area = l * h\n",
    "    return float(area)\n",
    "\n",
    "l = int(input('Length of base: '))\n",
    "h = int(input('Height of parallelogram: '))\n",
    "area = parallelogram_area(l, h)\n",
    "print('Expected Output:',area)"
   ]
  }
 ],
 "metadata": {
  "kernelspec": {
   "display_name": "Python 3 (ipykernel)",
   "language": "python",
   "name": "python3"
  },
  "language_info": {
   "codemirror_mode": {
    "name": "ipython",
    "version": 3
   },
   "file_extension": ".py",
   "mimetype": "text/x-python",
   "name": "python",
   "nbconvert_exporter": "python",
   "pygments_lexer": "ipython3",
   "version": "3.9.13"
  }
 },
 "nbformat": 4,
 "nbformat_minor": 2
}
