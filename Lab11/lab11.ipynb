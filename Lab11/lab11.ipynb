{
 "cells": [
  {
   "cell_type": "markdown",
   "metadata": {},
   "source": [
    "Phonebook"
   ]
  },
  {
   "cell_type": "code",
   "execution_count": 1,
   "metadata": {},
   "outputs": [
    {
     "ename": "UndefinedTable",
     "evalue": "ОШИБКА:  отношение \"phonebook\" не существует\nLINE 1: INSERT INTO PhoneBook (first_name, last_name, phone, email) ...\n                    ^\n",
     "output_type": "error",
     "traceback": [
      "\u001b[1;31m---------------------------------------------------------------------------\u001b[0m",
      "\u001b[1;31mUndefinedTable\u001b[0m                            Traceback (most recent call last)",
      "\u001b[1;32m~\\AppData\\Local\\Temp\\ipykernel_10348\\3167729071.py\u001b[0m in \u001b[0;36m<module>\u001b[1;34m\u001b[0m\n\u001b[0;32m     73\u001b[0m     \u001b[0mprint\u001b[0m\u001b[1;33m(\u001b[0m\u001b[1;34m\"Data deleted successfully\"\u001b[0m\u001b[1;33m)\u001b[0m\u001b[1;33m\u001b[0m\u001b[1;33m\u001b[0m\u001b[0m\n\u001b[0;32m     74\u001b[0m \u001b[1;33m\u001b[0m\u001b[0m\n\u001b[1;32m---> 75\u001b[1;33m \u001b[0mupload_data_from_csv\u001b[0m\u001b[1;33m(\u001b[0m\u001b[1;34m'PhoneBook_data.csv'\u001b[0m\u001b[1;33m)\u001b[0m\u001b[1;33m\u001b[0m\u001b[1;33m\u001b[0m\u001b[0m\n\u001b[0m\u001b[0;32m     76\u001b[0m \u001b[0minsert_data_from_console\u001b[0m\u001b[1;33m(\u001b[0m\u001b[1;33m)\u001b[0m\u001b[1;33m\u001b[0m\u001b[1;33m\u001b[0m\u001b[0m\n\u001b[0;32m     77\u001b[0m \u001b[0mprint\u001b[0m\u001b[1;33m(\u001b[0m\u001b[1;34m\"-----------------------------------------------------------------------------------\"\u001b[0m\u001b[1;33m)\u001b[0m\u001b[1;33m\u001b[0m\u001b[1;33m\u001b[0m\u001b[0m\n",
      "\u001b[1;32m~\\AppData\\Local\\Temp\\ipykernel_10348\\3167729071.py\u001b[0m in \u001b[0;36mupload_data_from_csv\u001b[1;34m(filename)\u001b[0m\n\u001b[0;32m     15\u001b[0m         \u001b[0mreader\u001b[0m \u001b[1;33m=\u001b[0m \u001b[0mcsv\u001b[0m\u001b[1;33m.\u001b[0m\u001b[0mreader\u001b[0m\u001b[1;33m(\u001b[0m\u001b[0mf\u001b[0m\u001b[1;33m,\u001b[0m \u001b[0mdelimiter\u001b[0m\u001b[1;33m=\u001b[0m\u001b[1;34m\";\"\u001b[0m\u001b[1;33m)\u001b[0m\u001b[1;33m\u001b[0m\u001b[1;33m\u001b[0m\u001b[0m\n\u001b[0;32m     16\u001b[0m         \u001b[1;32mfor\u001b[0m \u001b[0mrow\u001b[0m \u001b[1;32min\u001b[0m \u001b[0mreader\u001b[0m\u001b[1;33m:\u001b[0m\u001b[1;33m\u001b[0m\u001b[1;33m\u001b[0m\u001b[0m\n\u001b[1;32m---> 17\u001b[1;33m             cur.execute(\n\u001b[0m\u001b[0;32m     18\u001b[0m                 \u001b[1;34m\"INSERT INTO PhoneBook (first_name, last_name, phone, email) VALUES (%s, %s, %s, %s)\"\u001b[0m\u001b[1;33m,\u001b[0m\u001b[1;33m\u001b[0m\u001b[1;33m\u001b[0m\u001b[0m\n\u001b[0;32m     19\u001b[0m                 \u001b[1;33m(\u001b[0m\u001b[0mrow\u001b[0m\u001b[1;33m[\u001b[0m\u001b[1;36m0\u001b[0m\u001b[1;33m]\u001b[0m\u001b[1;33m,\u001b[0m \u001b[0mrow\u001b[0m\u001b[1;33m[\u001b[0m\u001b[1;36m1\u001b[0m\u001b[1;33m]\u001b[0m\u001b[1;33m,\u001b[0m \u001b[0mrow\u001b[0m\u001b[1;33m[\u001b[0m\u001b[1;36m2\u001b[0m\u001b[1;33m]\u001b[0m\u001b[1;33m,\u001b[0m \u001b[0mrow\u001b[0m\u001b[1;33m[\u001b[0m\u001b[1;36m3\u001b[0m\u001b[1;33m]\u001b[0m\u001b[1;33m)\u001b[0m\u001b[1;33m\u001b[0m\u001b[1;33m\u001b[0m\u001b[0m\n",
      "\u001b[1;31mUndefinedTable\u001b[0m: ОШИБКА:  отношение \"phonebook\" не существует\nLINE 1: INSERT INTO PhoneBook (first_name, last_name, phone, email) ...\n                    ^\n"
     ]
    }
   ],
   "source": [
    "import psycopg2\n",
    "import csv\n",
    "\n",
    "conn = psycopg2.connect(\n",
    "    host=\"localhost\",\n",
    "    database=\"phonebook\",\n",
    "    user=\"postgres\",\n",
    "    password=\"haha@123\"\n",
    ")\n",
    "\n",
    "cur = conn.cursor()\n",
    "\n",
    "def upload_data_from_csv(filename):\n",
    "    with open(filename, 'r') as f:\n",
    "        reader = csv.reader(f, delimiter=\";\")\n",
    "        for row in reader:\n",
    "            cur.execute(\n",
    "                \"INSERT INTO PhoneBook (first_name, last_name, phone, email) VALUES (%s, %s, %s, %s)\",\n",
    "                (row[0], row[1], row[2], row[3])\n",
    "            )\n",
    "        conn.commit()\n",
    "        print(\"Data uploaded successfully from\", filename)\n",
    "\n",
    "def update_data(id, column, value):\n",
    "    cur.execute(\n",
    "        f\"UPDATE PhoneBook SET {column} = %s WHERE id = %s\",\n",
    "        (value, id)\n",
    "    )\n",
    "    conn.commit()\n",
    "    print(\"Data updated successfully\")\n",
    "\n",
    "def insert_data_from_console():\n",
    "    first_name = input(\"Enter first name: \")\n",
    "    last_name = input(\"Enter last name: \")\n",
    "    phone = input(\"Enter phone number: \")\n",
    "    email = input(\"Enter email address: \")\n",
    "    cur.execute(\n",
    "        \"INSERT INTO PhoneBook (first_name, last_name, phone, email) VALUES (%s, %s, %s, %s)\",\n",
    "        (first_name, last_name, phone, email)\n",
    "    )\n",
    "    conn.commit()\n",
    "    print(\"Data inserted successfully\")\n",
    "\n",
    "def query_data(column, value, limit, offset):\n",
    "    cur.execute(\n",
    "        f\"SELECT * FROM PhoneBook WHERE {column} = %s LIMIT %s OFFSET %s\",\n",
    "        (value, limit, offset)\n",
    "    )\n",
    "    rows = cur.fetchall()\n",
    "    if len(rows) == 0:\n",
    "        print(\"No records found\")\n",
    "    else:\n",
    "        for row in rows:\n",
    "            print(row)\n",
    "\n",
    "def search_data(pattern):\n",
    "    cur.execute(\n",
    "        f\"SELECT * FROM PhoneBook WHERE first_name LIKE '%{pattern}%' OR last_name LIKE '%{pattern}%' OR phone LIKE '%{pattern}%'\"\n",
    "    )\n",
    "    rows = cur.fetchall()\n",
    "    if len(rows) == 0:\n",
    "        print(\"No records found\")\n",
    "    else:\n",
    "        for row in rows:\n",
    "            print(row)\n",
    "\n",
    "def delete_data(column, value):\n",
    "    cur.execute(\n",
    "        f\"DELETE FROM PhoneBook WHERE {column} = %s\",\n",
    "        (value,)\n",
    "    )\n",
    "    conn.commit()\n",
    "    print(\"Data deleted successfully\")\n",
    "\n",
    "upload_data_from_csv('PhoneBook_data.csv')\n",
    "insert_data_from_console()\n",
    "print(\"-----------------------------------------------------------------------------------\")\n",
    "update_data(1, 'first_name', 'Jane')\n",
    "print(\"-----------------------------------------------------------------------------------\")\n",
    "delete_data('last_name', 'Harris')\n",
    "print(\"-----------------------------------------------------------------------------------\")\n",
    "search_data('7919')\n",
    "print(\"-----------------------------------------------------------------------------------\")\n",
    "query_data('last_name', 'Jones', 10, 0) # Querying the first 10 records with last name = 'Jones'\n",
    "\n",
    "cur.close()\n",
    "conn.close()"
   ]
  },
  {
   "cell_type": "code",
   "execution_count": null,
   "metadata": {},
   "outputs": [],
   "source": []
  }
 ],
 "metadata": {
  "kernelspec": {
   "display_name": "Python 3 (ipykernel)",
   "language": "python",
   "name": "python3"
  },
  "language_info": {
   "codemirror_mode": {
    "name": "ipython",
    "version": 3
   },
   "file_extension": ".py",
   "mimetype": "text/x-python",
   "name": "python",
   "nbconvert_exporter": "python",
   "pygments_lexer": "ipython3",
   "version": "3.9.13"
  }
 },
 "nbformat": 4,
 "nbformat_minor": 2
}
