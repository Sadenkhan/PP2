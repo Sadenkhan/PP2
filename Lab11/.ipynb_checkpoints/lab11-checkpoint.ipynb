{
 "cells": [
  {
   "cell_type": "markdown",
   "metadata": {},
   "source": [
    "Phonebook"
   ]
  },
  {
   "cell_type": "code",
   "execution_count": 1,
   "metadata": {},
   "outputs": [
    {
     "ename": "ModuleNotFoundError",
     "evalue": "No module named 'psycopg2'",
     "output_type": "error",
     "traceback": [
      "\u001b[1;31m---------------------------------------------------------------------------\u001b[0m",
      "\u001b[1;31mModuleNotFoundError\u001b[0m                       Traceback (most recent call last)",
      "\u001b[1;32m~\\AppData\\Local\\Temp\\ipykernel_23424\\3167729071.py\u001b[0m in \u001b[0;36m<module>\u001b[1;34m\u001b[0m\n\u001b[1;32m----> 1\u001b[1;33m \u001b[1;32mimport\u001b[0m \u001b[0mpsycopg2\u001b[0m\u001b[1;33m\u001b[0m\u001b[1;33m\u001b[0m\u001b[0m\n\u001b[0m\u001b[0;32m      2\u001b[0m \u001b[1;32mimport\u001b[0m \u001b[0mcsv\u001b[0m\u001b[1;33m\u001b[0m\u001b[1;33m\u001b[0m\u001b[0m\n\u001b[0;32m      3\u001b[0m \u001b[1;33m\u001b[0m\u001b[0m\n\u001b[0;32m      4\u001b[0m conn = psycopg2.connect(\n\u001b[0;32m      5\u001b[0m     \u001b[0mhost\u001b[0m\u001b[1;33m=\u001b[0m\u001b[1;34m\"localhost\"\u001b[0m\u001b[1;33m,\u001b[0m\u001b[1;33m\u001b[0m\u001b[1;33m\u001b[0m\u001b[0m\n",
      "\u001b[1;31mModuleNotFoundError\u001b[0m: No module named 'psycopg2'"
     ]
    }
   ],
   "source": [
    "import psycopg2\n",
    "import csv\n",
    "\n",
    "conn = psycopg2.connect(\n",
    "    host=\"localhost\",\n",
    "    database=\"phonebook\",\n",
    "    user=\"postgres\",\n",
    "    password=\"haha@123\"\n",
    ")\n",
    "\n",
    "cur = conn.cursor()\n",
    "\n",
    "def upload_data_from_csv(filename):\n",
    "    with open(filename, 'r') as f:\n",
    "        reader = csv.reader(f, delimiter=\";\")\n",
    "        for row in reader:\n",
    "            cur.execute(\n",
    "                \"INSERT INTO PhoneBook (first_name, last_name, phone, email) VALUES (%s, %s, %s, %s)\",\n",
    "                (row[0], row[1], row[2], row[3])\n",
    "            )\n",
    "        conn.commit()\n",
    "        print(\"Data uploaded successfully from\", filename)\n",
    "\n",
    "def update_data(id, column, value):\n",
    "    cur.execute(\n",
    "        f\"UPDATE PhoneBook SET {column} = %s WHERE id = %s\",\n",
    "        (value, id)\n",
    "    )\n",
    "    conn.commit()\n",
    "    print(\"Data updated successfully\")\n",
    "\n",
    "def insert_data_from_console():\n",
    "    first_name = input(\"Enter first name: \")\n",
    "    last_name = input(\"Enter last name: \")\n",
    "    phone = input(\"Enter phone number: \")\n",
    "    email = input(\"Enter email address: \")\n",
    "    cur.execute(\n",
    "        \"INSERT INTO PhoneBook (first_name, last_name, phone, email) VALUES (%s, %s, %s, %s)\",\n",
    "        (first_name, last_name, phone, email)\n",
    "    )\n",
    "    conn.commit()\n",
    "    print(\"Data inserted successfully\")\n",
    "\n",
    "def query_data(column, value, limit, offset):\n",
    "    cur.execute(\n",
    "        f\"SELECT * FROM PhoneBook WHERE {column} = %s LIMIT %s OFFSET %s\",\n",
    "        (value, limit, offset)\n",
    "    )\n",
    "    rows = cur.fetchall()\n",
    "    if len(rows) == 0:\n",
    "        print(\"No records found\")\n",
    "    else:\n",
    "        for row in rows:\n",
    "            print(row)\n",
    "\n",
    "def search_data(pattern):\n",
    "    cur.execute(\n",
    "        f\"SELECT * FROM PhoneBook WHERE first_name LIKE '%{pattern}%' OR last_name LIKE '%{pattern}%' OR phone LIKE '%{pattern}%'\"\n",
    "    )\n",
    "    rows = cur.fetchall()\n",
    "    if len(rows) == 0:\n",
    "        print(\"No records found\")\n",
    "    else:\n",
    "        for row in rows:\n",
    "            print(row)\n",
    "\n",
    "def delete_data(column, value):\n",
    "    cur.execute(\n",
    "        f\"DELETE FROM PhoneBook WHERE {column} = %s\",\n",
    "        (value,)\n",
    "    )\n",
    "    conn.commit()\n",
    "    print(\"Data deleted successfully\")\n",
    "\n",
    "upload_data_from_csv('PhoneBook_data.csv')\n",
    "insert_data_from_console()\n",
    "print(\"-----------------------------------------------------------------------------------\")\n",
    "update_data(1, 'first_name', 'Jane')\n",
    "print(\"-----------------------------------------------------------------------------------\")\n",
    "delete_data('last_name', 'Harris')\n",
    "print(\"-----------------------------------------------------------------------------------\")\n",
    "search_data('7919')\n",
    "print(\"-----------------------------------------------------------------------------------\")\n",
    "query_data('last_name', 'Jones', 10, 0) # Querying the first 10 records with last name = 'Jones'\n",
    "\n",
    "cur.close()\n",
    "conn.close()"
   ]
  },
  {
   "cell_type": "code",
   "execution_count": null,
   "metadata": {},
   "outputs": [],
   "source": []
  }
 ],
 "metadata": {
  "kernelspec": {
   "display_name": "Python 3 (ipykernel)",
   "language": "python",
   "name": "python3"
  },
  "language_info": {
   "codemirror_mode": {
    "name": "ipython",
    "version": 3
   },
   "file_extension": ".py",
   "mimetype": "text/x-python",
   "name": "python",
   "nbconvert_exporter": "python",
   "pygments_lexer": "ipython3",
   "version": "3.9.13"
  }
 },
 "nbformat": 4,
 "nbformat_minor": 2
}
